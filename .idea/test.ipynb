{
 "cells": [
  {
   "metadata": {},
   "cell_type": "code",
   "outputs": [],
   "execution_count": null,
   "source": [
    "# Load data\n",
    "test = pd.read_csv('/kaggle/input/playground-series-s5e1/test.csv')\n",
    "sample_submission = pd.read_csv('/kaggle/input/playground-series-s5e1/sample_submission.csv')\n",
    "\n",
    "# Feature engineering\n",
    "test['date'] = pd.to_datetime(test['date'])\n",
    "test['year'] = test['date'].dt.year\n",
    "test['month'] = test['date'].dt.month\n",
    "test['day'] = test['date'].dt.day\n",
    "test['day_of_week'] = test['date'].dt.dayofweek\n",
    "test['is_weekend'] = test['day_of_week'].isin([5, 6]).astype(int)\n",
    "\n",
    "# Scale numerical features\n",
    "test[numerical_features] = scaler.transform(test[numerical_features])\n",
    "\n",
    "# Encode categorical features\n",
    "encoded_test_features = pd.DataFrame(encoder.transform(test[categorical_features]), index=test.index)\n",
    "encoded_test_features.columns = encoder.get_feature_names_out(categorical_features)\n",
    "\n",
    "# Combine numerical and encoded categorical features\n",
    "X_test = pd.concat([test[numerical_features], encoded_test_features], axis=1)\n",
    "\n",
    "# Predict on test set\n",
    "y_pred_test_log = model.predict(X_test)\n",
    "y_pred_test = np.expm1(y_pred_test_log)\n",
    "\n",
    "# Add predictions to test DataFrame\n",
    "test['predicted_sales'] = y_pred_test\n",
    "\n",
    "# Submission csv\n",
    "sample_submission['num_sold'] = y_pred_test\n",
    "sample_submission.to_csv('/kaggle/working/submission.csv', index=False)\n",
    "print(\"Submission file created: submission.csv\")"
   ],
   "id": "f1d820d80f50e433"
  }
 ],
 "metadata": {},
 "nbformat": 5,
 "nbformat_minor": 9
}
